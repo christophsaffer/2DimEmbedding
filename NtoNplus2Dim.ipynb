{
 "cells": [
  {
   "cell_type": "code",
   "execution_count": 2,
   "metadata": {
    "collapsed": true
   },
   "outputs": [],
   "source": [
    "import numpy as np\n",
    "import pandas as pd"
   ]
  },
  {
   "cell_type": "code",
   "execution_count": 8,
   "metadata": {
    "collapsed": true
   },
   "outputs": [],
   "source": [
    "from sklearn.manifold import Isomap, LocallyLinearEmbedding, SpectralEmbedding, TSNE\n",
    "from sklearn.model_selection import train_test_split"
   ]
  },
  {
   "cell_type": "code",
   "execution_count": 40,
   "metadata": {},
   "outputs": [],
   "source": [
    "df = pd.read_csv(\"datasets/iris.csv\")"
   ]
  },
  {
   "cell_type": "code",
   "execution_count": 41,
   "metadata": {},
   "outputs": [
    {
     "data": {
      "text/plain": [
       "150"
      ]
     },
     "execution_count": 41,
     "metadata": {},
     "output_type": "execute_result"
    }
   ],
   "source": [
    "len(df)"
   ]
  },
  {
   "cell_type": "code",
   "execution_count": 42,
   "metadata": {},
   "outputs": [],
   "source": [
    "train, test = train_test_split(df)"
   ]
  },
  {
   "cell_type": "code",
   "execution_count": 43,
   "metadata": {},
   "outputs": [
    {
     "data": {
      "text/plain": [
       "112"
      ]
     },
     "execution_count": 43,
     "metadata": {},
     "output_type": "execute_result"
    }
   ],
   "source": [
    "len(train)"
   ]
  },
  {
   "cell_type": "code",
   "execution_count": 44,
   "metadata": {},
   "outputs": [],
   "source": [
    "train, test = train_test_split(df)\n",
    "train.reset_index(inplace=True)\n",
    "test.reset_index(inplace=True)\n",
    "del train['index']\n",
    "del test['index']"
   ]
  },
  {
   "cell_type": "code",
   "execution_count": 45,
   "metadata": {},
   "outputs": [
    {
     "data": {
      "text/html": [
       "<div>\n",
       "<style>\n",
       "    .dataframe thead tr:only-child th {\n",
       "        text-align: right;\n",
       "    }\n",
       "\n",
       "    .dataframe thead th {\n",
       "        text-align: left;\n",
       "    }\n",
       "\n",
       "    .dataframe tbody tr th {\n",
       "        vertical-align: top;\n",
       "    }\n",
       "</style>\n",
       "<table border=\"1\" class=\"dataframe\">\n",
       "  <thead>\n",
       "    <tr style=\"text-align: right;\">\n",
       "      <th></th>\n",
       "      <th>sepal_length</th>\n",
       "      <th>sepal_width</th>\n",
       "      <th>petal_length</th>\n",
       "      <th>petal_width</th>\n",
       "      <th>species</th>\n",
       "      <th>Emb_dim1</th>\n",
       "      <th>Emb_dim2</th>\n",
       "    </tr>\n",
       "  </thead>\n",
       "  <tbody>\n",
       "    <tr>\n",
       "      <th>0</th>\n",
       "      <td>5.4</td>\n",
       "      <td>3.0</td>\n",
       "      <td>4.5</td>\n",
       "      <td>1.5</td>\n",
       "      <td>versicolor</td>\n",
       "      <td>-1.750722</td>\n",
       "      <td>0.036864</td>\n",
       "    </tr>\n",
       "    <tr>\n",
       "      <th>1</th>\n",
       "      <td>5.1</td>\n",
       "      <td>3.7</td>\n",
       "      <td>1.5</td>\n",
       "      <td>0.4</td>\n",
       "      <td>setosa</td>\n",
       "      <td>0.082614</td>\n",
       "      <td>-0.317458</td>\n",
       "    </tr>\n",
       "    <tr>\n",
       "      <th>2</th>\n",
       "      <td>7.2</td>\n",
       "      <td>3.2</td>\n",
       "      <td>6.0</td>\n",
       "      <td>1.8</td>\n",
       "      <td>virginica</td>\n",
       "      <td>2.002115</td>\n",
       "      <td>-0.323164</td>\n",
       "    </tr>\n",
       "    <tr>\n",
       "      <th>3</th>\n",
       "      <td>4.9</td>\n",
       "      <td>3.6</td>\n",
       "      <td>1.4</td>\n",
       "      <td>0.1</td>\n",
       "      <td>setosa</td>\n",
       "      <td>0.083687</td>\n",
       "      <td>-0.340100</td>\n",
       "    </tr>\n",
       "    <tr>\n",
       "      <th>4</th>\n",
       "      <td>6.5</td>\n",
       "      <td>2.8</td>\n",
       "      <td>4.6</td>\n",
       "      <td>1.5</td>\n",
       "      <td>versicolor</td>\n",
       "      <td>-0.279710</td>\n",
       "      <td>0.493308</td>\n",
       "    </tr>\n",
       "  </tbody>\n",
       "</table>\n",
       "</div>"
      ],
      "text/plain": [
       "   sepal_length  sepal_width  petal_length  petal_width     species  Emb_dim1  \\\n",
       "0           5.4          3.0           4.5          1.5  versicolor -1.750722   \n",
       "1           5.1          3.7           1.5          0.4      setosa  0.082614   \n",
       "2           7.2          3.2           6.0          1.8   virginica  2.002115   \n",
       "3           4.9          3.6           1.4          0.1      setosa  0.083687   \n",
       "4           6.5          2.8           4.6          1.5  versicolor -0.279710   \n",
       "\n",
       "   Emb_dim2  \n",
       "0  0.036864  \n",
       "1 -0.317458  \n",
       "2 -0.323164  \n",
       "3 -0.340100  \n",
       "4  0.493308  "
      ]
     },
     "execution_count": 45,
     "metadata": {},
     "output_type": "execute_result"
    }
   ],
   "source": [
    "df_org = train\n",
    "df = pd.DataFrame(train, columns = ['sepal_length', 'sepal_width', 'petal_length', 'petal_width'])\n",
    "embedding = Isomap(n_components=2)\n",
    "df_trans = embedding.fit_transform(df)\n",
    "df_org[\"Emb_dim1\"] = df_trans[:,0]\n",
    "df_org[\"Emb_dim2\"] = df_trans[:,1]\n",
    "#df_org.to_csv(\"embedded_datasets/iris_isomap.csv\")\n",
    "df_org.head()"
   ]
  },
  {
   "cell_type": "code",
   "execution_count": 46,
   "metadata": {
    "collapsed": true
   },
   "outputs": [],
   "source": [
    "import mb_modelbase as mbase"
   ]
  },
  {
   "cell_type": "code",
   "execution_count": 58,
   "metadata": {},
   "outputs": [
    {
     "data": {
      "text/plain": [
       "array([6.6, 3.0, 4.4, 1.4, 'versicolor'], dtype=object)"
      ]
     },
     "execution_count": 58,
     "metadata": {},
     "output_type": "execute_result"
    }
   ],
   "source": [
    "test.head()\n",
    "np.array(test)[0]"
   ]
  },
  {
   "cell_type": "code",
   "execution_count": 72,
   "metadata": {},
   "outputs": [
    {
     "data": {
      "text/plain": [
       "<mb_modelbase.models_core.mixable_cond_gaussian.MixableCondGaussianModel at 0x7f35ea3ba3c8>"
      ]
     },
     "execution_count": 72,
     "metadata": {},
     "output_type": "execute_result"
    }
   ],
   "source": [
    "mymod = mbase.MixableCondGaussianModel(\"Iris\")\n",
    "#Fitting process\n",
    "mymod.fit(df=df_org)"
   ]
  },
  {
   "cell_type": "code",
   "execution_count": 116,
   "metadata": {},
   "outputs": [
    {
     "name": "stdout",
     "output_type": "stream",
     "text": [
      "versicolor\n",
      "setosa\n",
      "versicolor\n",
      "setosa\n",
      "virginica\n",
      "virginica\n",
      "versicolor\n",
      "setosa\n",
      "virginica\n",
      "versicolor\n",
      "versicolor\n",
      "versicolor\n",
      "virginica\n",
      "setosa\n",
      "versicolor\n",
      "versicolor\n",
      "versicolor\n",
      "versicolor\n",
      "virginica\n",
      "setosa\n",
      "versicolor\n",
      "versicolor\n",
      "virginica\n",
      "virginica\n",
      "virginica\n",
      "virginica\n",
      "virginica\n",
      "setosa\n",
      "setosa\n",
      "versicolor\n",
      "setosa\n",
      "virginica\n",
      "virginica\n",
      "virginica\n",
      "virginica\n",
      "setosa\n",
      "versicolor\n",
      "setosa\n"
     ]
    }
   ],
   "source": [
    "for row in test.iterrows():\n",
    "    print(row[1][\"species\"])"
   ]
  },
  {
   "cell_type": "code",
   "execution_count": 126,
   "metadata": {},
   "outputs": [],
   "source": [
    "emb1, emb2 = [], []\n",
    "for row in test.iterrows():\n",
    "    mymod_cond = mymod.copy()\n",
    "    for col in test.columns:\n",
    "        mymod_cond = mymod_cond.copy().condition(mbase.Condition(col, \"==\", row[1][col]))\n",
    "    argmax = mymod_cond.aggregate(\"maximum\")\n",
    "    emb1.append(argmax[-2])\n",
    "    emb2.append(argmax[-1])\n"
   ]
  },
  {
   "cell_type": "code",
   "execution_count": 128,
   "metadata": {},
   "outputs": [
    {
     "data": {
      "text/html": [
       "<div>\n",
       "<style>\n",
       "    .dataframe thead tr:only-child th {\n",
       "        text-align: right;\n",
       "    }\n",
       "\n",
       "    .dataframe thead th {\n",
       "        text-align: left;\n",
       "    }\n",
       "\n",
       "    .dataframe tbody tr th {\n",
       "        vertical-align: top;\n",
       "    }\n",
       "</style>\n",
       "<table border=\"1\" class=\"dataframe\">\n",
       "  <thead>\n",
       "    <tr style=\"text-align: right;\">\n",
       "      <th></th>\n",
       "      <th>sepal_length</th>\n",
       "      <th>sepal_width</th>\n",
       "      <th>petal_length</th>\n",
       "      <th>petal_width</th>\n",
       "      <th>species</th>\n",
       "      <th>Emb_dim1</th>\n",
       "      <th>Emb_dim2</th>\n",
       "    </tr>\n",
       "  </thead>\n",
       "  <tbody>\n",
       "    <tr>\n",
       "      <th>0</th>\n",
       "      <td>6.6</td>\n",
       "      <td>3.0</td>\n",
       "      <td>4.4</td>\n",
       "      <td>1.4</td>\n",
       "      <td>versicolor</td>\n",
       "      <td>-0.540206</td>\n",
       "      <td>0.397871</td>\n",
       "    </tr>\n",
       "    <tr>\n",
       "      <th>1</th>\n",
       "      <td>5.2</td>\n",
       "      <td>4.1</td>\n",
       "      <td>1.5</td>\n",
       "      <td>0.1</td>\n",
       "      <td>setosa</td>\n",
       "      <td>0.084894</td>\n",
       "      <td>-0.337588</td>\n",
       "    </tr>\n",
       "    <tr>\n",
       "      <th>2</th>\n",
       "      <td>5.6</td>\n",
       "      <td>3.0</td>\n",
       "      <td>4.5</td>\n",
       "      <td>1.5</td>\n",
       "      <td>versicolor</td>\n",
       "      <td>-1.043990</td>\n",
       "      <td>0.151369</td>\n",
       "    </tr>\n",
       "    <tr>\n",
       "      <th>3</th>\n",
       "      <td>5.5</td>\n",
       "      <td>4.2</td>\n",
       "      <td>1.4</td>\n",
       "      <td>0.2</td>\n",
       "      <td>setosa</td>\n",
       "      <td>0.084381</td>\n",
       "      <td>-0.335195</td>\n",
       "    </tr>\n",
       "    <tr>\n",
       "      <th>4</th>\n",
       "      <td>7.3</td>\n",
       "      <td>2.9</td>\n",
       "      <td>6.3</td>\n",
       "      <td>1.8</td>\n",
       "      <td>virginica</td>\n",
       "      <td>1.813430</td>\n",
       "      <td>-0.190957</td>\n",
       "    </tr>\n",
       "  </tbody>\n",
       "</table>\n",
       "</div>"
      ],
      "text/plain": [
       "   sepal_length  sepal_width  petal_length  petal_width     species  Emb_dim1  \\\n",
       "0           6.6          3.0           4.4          1.4  versicolor -0.540206   \n",
       "1           5.2          4.1           1.5          0.1      setosa  0.084894   \n",
       "2           5.6          3.0           4.5          1.5  versicolor -1.043990   \n",
       "3           5.5          4.2           1.4          0.2      setosa  0.084381   \n",
       "4           7.3          2.9           6.3          1.8   virginica  1.813430   \n",
       "\n",
       "   Emb_dim2  \n",
       "0  0.397871  \n",
       "1 -0.337588  \n",
       "2  0.151369  \n",
       "3 -0.335195  \n",
       "4 -0.190957  "
      ]
     },
     "execution_count": 128,
     "metadata": {},
     "output_type": "execute_result"
    }
   ],
   "source": [
    "test[\"Emb_dim1\"] = emb1\n",
    "test[\"Emb_dim2\"] = emb2\n",
    "test.head()"
   ]
  },
  {
   "cell_type": "code",
   "execution_count": 118,
   "metadata": {},
   "outputs": [
    {
     "ename": "TypeError",
     "evalue": "Condition() missing 2 required positional arguments: 'operator' and 'value'",
     "output_type": "error",
     "traceback": [
      "\u001b[0;31m---------------------------------------------------------------------------\u001b[0m",
      "\u001b[0;31mTypeError\u001b[0m                                 Traceback (most recent call last)",
      "\u001b[0;32m<ipython-input-118-ea3ae886b2b1>\u001b[0m in \u001b[0;36m<module>\u001b[0;34m()\u001b[0m\n\u001b[0;32m----> 1\u001b[0;31m \u001b[0mliste\u001b[0m \u001b[0;34m=\u001b[0m \u001b[0;34m[\u001b[0m\u001b[0mmbase\u001b[0m\u001b[0;34m.\u001b[0m\u001b[0mCondition\u001b[0m\u001b[0;34m(\u001b[0m\u001b[0;34m[\u001b[0m\u001b[0;34m\"species\"\u001b[0m\u001b[0;34m,\u001b[0m \u001b[0;34m\"==\"\u001b[0m\u001b[0;34m,\u001b[0m \u001b[0;34m\"versicolor\"\u001b[0m\u001b[0;34m]\u001b[0m\u001b[0;34m)\u001b[0m\u001b[0;34m,\u001b[0m \u001b[0mmbase\u001b[0m\u001b[0;34m.\u001b[0m\u001b[0mCondition\u001b[0m\u001b[0;34m(\u001b[0m\u001b[0;34m\"sepal_length\"\u001b[0m\u001b[0;34m,\u001b[0m \u001b[0;34m\"==\"\u001b[0m\u001b[0;34m,\u001b[0m \u001b[0;36m6.6\u001b[0m\u001b[0;34m)\u001b[0m\u001b[0;34m]\u001b[0m\u001b[0;34m\u001b[0m\u001b[0m\n\u001b[0m\u001b[1;32m      2\u001b[0m \u001b[0mmymod_cond\u001b[0m \u001b[0;34m=\u001b[0m \u001b[0mmymod\u001b[0m\u001b[0;34m.\u001b[0m\u001b[0mcopy\u001b[0m\u001b[0;34m(\u001b[0m\u001b[0;34m)\u001b[0m\u001b[0;34m.\u001b[0m\u001b[0mcondition\u001b[0m\u001b[0;34m(\u001b[0m\u001b[0mliste\u001b[0m\u001b[0;34m)\u001b[0m\u001b[0;34m\u001b[0m\u001b[0m\n\u001b[1;32m      3\u001b[0m \u001b[0;31m#mymod_cond = mymod.copy().condition(mbase.Condition(\"species\", \"==\", \"versicolor\"))\u001b[0m\u001b[0;34m\u001b[0m\u001b[0;34m\u001b[0m\u001b[0m\n\u001b[1;32m      4\u001b[0m \u001b[0;31m#mymod_cond = mymod_cond.copy().condition(mbase.Condition(\"sepal_length\", \"==\", 6.6))\u001b[0m\u001b[0;34m\u001b[0m\u001b[0;34m\u001b[0m\u001b[0m\n\u001b[1;32m      5\u001b[0m \u001b[0;31m#mymod_cond = mymod_cond.copy().condition(mbase.Condition(\"sepal_width\", \"==\", 3))\u001b[0m\u001b[0;34m\u001b[0m\u001b[0;34m\u001b[0m\u001b[0m\n",
      "\u001b[0;31mTypeError\u001b[0m: Condition() missing 2 required positional arguments: 'operator' and 'value'"
     ]
    }
   ],
   "source": [
    "liste = [mbase.Condition(\"species\", \"==\", \"versicolor\"), mbase.Condition(\"sepal_length\", \"==\", 6.6)]\n",
    "mymod_cond = mymod.copy().condition(liste)\n",
    "#mymod_cond = mymod.copy().condition(mbase.Condition(\"species\", \"==\", \"versicolor\"))\n",
    "#mymod_cond = mymod_cond.copy().condition(mbase.Condition(\"sepal_length\", \"==\", 6.6))\n",
    "#mymod_cond = mymod_cond.copy().condition(mbase.Condition(\"sepal_width\", \"==\", 3))\n",
    "#mymod_cond = mymod_cond.copy().condition(mbase.Condition(\"petal_length\", \"==\", 4.4))\n",
    "#mymod_cond = mymod_cond.copy().condition(mbase.Condition(\"petal_width\", \"==\", 1.4))\n",
    "\n",
    "    \n",
    "  ##  [[mbase.Condition(\"species\", \"==\", \"versicolor\")], [mbase.Condition(\"speal_length\", \"==\", 6.6)], [mbase.Condition(\"sepal_width\", \"==\", 3)], [mbase.Condition(\"petal_length\", \"==\", 4.4)], [mbase.Condition(\"petal_width\", \"==\", 1.4)]])"
   ]
  },
  {
   "cell_type": "code",
   "execution_count": 125,
   "metadata": {},
   "outputs": [
    {
     "data": {
      "text/plain": [
       "'versicolor'"
      ]
     },
     "execution_count": 125,
     "metadata": {},
     "output_type": "execute_result"
    }
   ],
   "source": [
    "mymod_cond.aggregate(\"maximum\")[-7]"
   ]
  },
  {
   "cell_type": "code",
   "execution_count": null,
   "metadata": {
    "collapsed": true
   },
   "outputs": [],
   "source": []
  },
  {
   "cell_type": "code",
   "execution_count": null,
   "metadata": {
    "collapsed": true
   },
   "outputs": [],
   "source": []
  },
  {
   "cell_type": "code",
   "execution_count": null,
   "metadata": {
    "collapsed": true
   },
   "outputs": [],
   "source": []
  },
  {
   "cell_type": "code",
   "execution_count": null,
   "metadata": {
    "collapsed": true
   },
   "outputs": [],
   "source": []
  },
  {
   "cell_type": "code",
   "execution_count": 19,
   "metadata": {},
   "outputs": [
    {
     "name": "stdout",
     "output_type": "stream",
     "text": [
      "['sepal_length', 'sepal_width', 'petal_length', 'petal_width']\n"
     ]
    }
   ],
   "source": [
    "conts = []\n",
    "for col in df.columns:\n",
    "    if str(df[col].dtype) == \"float64\" or str(df[col].dtype) == \"int64\":\n",
    "        conts.append(col)\n",
    "        \n",
    "print(conts)"
   ]
  },
  {
   "cell_type": "code",
   "execution_count": 3,
   "metadata": {},
   "outputs": [
    {
     "data": {
      "text/html": [
       "<div>\n",
       "<style>\n",
       "    .dataframe thead tr:only-child th {\n",
       "        text-align: right;\n",
       "    }\n",
       "\n",
       "    .dataframe thead th {\n",
       "        text-align: left;\n",
       "    }\n",
       "\n",
       "    .dataframe tbody tr th {\n",
       "        vertical-align: top;\n",
       "    }\n",
       "</style>\n",
       "<table border=\"1\" class=\"dataframe\">\n",
       "  <thead>\n",
       "    <tr style=\"text-align: right;\">\n",
       "      <th></th>\n",
       "      <th>transmission</th>\n",
       "      <th>cylinder</th>\n",
       "      <th>car_size</th>\n",
       "      <th>year</th>\n",
       "      <th>mpg_city</th>\n",
       "      <th>mpg_highway</th>\n",
       "      <th>displacement</th>\n",
       "    </tr>\n",
       "  </thead>\n",
       "  <tbody>\n",
       "    <tr>\n",
       "      <th>0</th>\n",
       "      <td>auto</td>\n",
       "      <td>few</td>\n",
       "      <td>small</td>\n",
       "      <td>1985</td>\n",
       "      <td>17.0</td>\n",
       "      <td>17.0</td>\n",
       "      <td>2.2960</td>\n",
       "    </tr>\n",
       "    <tr>\n",
       "      <th>1</th>\n",
       "      <td>auto</td>\n",
       "      <td>few</td>\n",
       "      <td>small</td>\n",
       "      <td>1985</td>\n",
       "      <td>17.0</td>\n",
       "      <td>17.0</td>\n",
       "      <td>2.2960</td>\n",
       "    </tr>\n",
       "    <tr>\n",
       "      <th>2</th>\n",
       "      <td>lock-up</td>\n",
       "      <td>medium</td>\n",
       "      <td>small</td>\n",
       "      <td>1985</td>\n",
       "      <td>21.0</td>\n",
       "      <td>27.0</td>\n",
       "      <td>2.4436</td>\n",
       "    </tr>\n",
       "    <tr>\n",
       "      <th>3</th>\n",
       "      <td>lock-up</td>\n",
       "      <td>medium</td>\n",
       "      <td>small</td>\n",
       "      <td>1985</td>\n",
       "      <td>18.0</td>\n",
       "      <td>24.0</td>\n",
       "      <td>2.6896</td>\n",
       "    </tr>\n",
       "    <tr>\n",
       "      <th>4</th>\n",
       "      <td>manual</td>\n",
       "      <td>medium</td>\n",
       "      <td>small</td>\n",
       "      <td>1985</td>\n",
       "      <td>18.0</td>\n",
       "      <td>23.0</td>\n",
       "      <td>2.6896</td>\n",
       "    </tr>\n",
       "  </tbody>\n",
       "</table>\n",
       "</div>"
      ],
      "text/plain": [
       "  transmission cylinder car_size  year  mpg_city  mpg_highway  displacement\n",
       "0         auto      few    small  1985      17.0         17.0        2.2960\n",
       "1         auto      few    small  1985      17.0         17.0        2.2960\n",
       "2      lock-up   medium    small  1985      21.0         27.0        2.4436\n",
       "3      lock-up   medium    small  1985      18.0         24.0        2.6896\n",
       "4       manual   medium    small  1985      18.0         23.0        2.6896"
      ]
     },
     "execution_count": 3,
     "metadata": {},
     "output_type": "execute_result"
    }
   ],
   "source": [
    "df = pd.read_csv(\"datasets/mpg.csv\", index_col=0)\n",
    "df.head()"
   ]
  },
  {
   "cell_type": "code",
   "execution_count": 6,
   "metadata": {},
   "outputs": [
    {
     "data": {
      "text/plain": [
       "1000"
      ]
     },
     "execution_count": 6,
     "metadata": {},
     "output_type": "execute_result"
    }
   ],
   "source": [
    "df_new=df.sample(1000)\n",
    "len(df_new)"
   ]
  },
  {
   "cell_type": "markdown",
   "metadata": {},
   "source": [
    "#### Spectral Embedding"
   ]
  },
  {
   "cell_type": "code",
   "execution_count": null,
   "metadata": {
    "collapsed": true
   },
   "outputs": [],
   "source": []
  },
  {
   "cell_type": "code",
   "execution_count": 91,
   "metadata": {},
   "outputs": [
    {
     "name": "stderr",
     "output_type": "stream",
     "text": [
      "/home/chris/anaconda3/lib/python3.6/site-packages/sklearn/manifold/spectral_embedding_.py:234: UserWarning: Graph is not fully connected, spectral embedding may not work as expected.\n",
      "  warnings.warn(\"Graph is not fully connected, spectral embedding\"\n"
     ]
    },
    {
     "data": {
      "text/html": [
       "<div>\n",
       "<style>\n",
       "    .dataframe thead tr:only-child th {\n",
       "        text-align: right;\n",
       "    }\n",
       "\n",
       "    .dataframe thead th {\n",
       "        text-align: left;\n",
       "    }\n",
       "\n",
       "    .dataframe tbody tr th {\n",
       "        vertical-align: top;\n",
       "    }\n",
       "</style>\n",
       "<table border=\"1\" class=\"dataframe\">\n",
       "  <thead>\n",
       "    <tr style=\"text-align: right;\">\n",
       "      <th></th>\n",
       "      <th>sepal_length</th>\n",
       "      <th>sepal_width</th>\n",
       "      <th>petal_length</th>\n",
       "      <th>petal_width</th>\n",
       "      <th>species</th>\n",
       "      <th>Emb_dim1</th>\n",
       "      <th>Emb_dim2</th>\n",
       "    </tr>\n",
       "  </thead>\n",
       "  <tbody>\n",
       "    <tr>\n",
       "      <th>0</th>\n",
       "      <td>5.1</td>\n",
       "      <td>3.5</td>\n",
       "      <td>1.4</td>\n",
       "      <td>0.2</td>\n",
       "      <td>setosa</td>\n",
       "      <td>0.162884</td>\n",
       "      <td>3.532708e-16</td>\n",
       "    </tr>\n",
       "    <tr>\n",
       "      <th>1</th>\n",
       "      <td>4.9</td>\n",
       "      <td>3.0</td>\n",
       "      <td>1.4</td>\n",
       "      <td>0.2</td>\n",
       "      <td>setosa</td>\n",
       "      <td>0.135737</td>\n",
       "      <td>2.042441e-15</td>\n",
       "    </tr>\n",
       "    <tr>\n",
       "      <th>2</th>\n",
       "      <td>4.7</td>\n",
       "      <td>3.2</td>\n",
       "      <td>1.3</td>\n",
       "      <td>0.2</td>\n",
       "      <td>setosa</td>\n",
       "      <td>0.144786</td>\n",
       "      <td>2.331468e-15</td>\n",
       "    </tr>\n",
       "    <tr>\n",
       "      <th>3</th>\n",
       "      <td>4.6</td>\n",
       "      <td>3.1</td>\n",
       "      <td>1.5</td>\n",
       "      <td>0.2</td>\n",
       "      <td>setosa</td>\n",
       "      <td>0.140261</td>\n",
       "      <td>2.185476e-15</td>\n",
       "    </tr>\n",
       "    <tr>\n",
       "      <th>4</th>\n",
       "      <td>5.0</td>\n",
       "      <td>3.6</td>\n",
       "      <td>1.4</td>\n",
       "      <td>0.2</td>\n",
       "      <td>setosa</td>\n",
       "      <td>0.162884</td>\n",
       "      <td>4.710277e-16</td>\n",
       "    </tr>\n",
       "  </tbody>\n",
       "</table>\n",
       "</div>"
      ],
      "text/plain": [
       "   sepal_length  sepal_width  petal_length  petal_width species  Emb_dim1  \\\n",
       "0           5.1          3.5           1.4          0.2  setosa  0.162884   \n",
       "1           4.9          3.0           1.4          0.2  setosa  0.135737   \n",
       "2           4.7          3.2           1.3          0.2  setosa  0.144786   \n",
       "3           4.6          3.1           1.5          0.2  setosa  0.140261   \n",
       "4           5.0          3.6           1.4          0.2  setosa  0.162884   \n",
       "\n",
       "       Emb_dim2  \n",
       "0  3.532708e-16  \n",
       "1  2.042441e-15  \n",
       "2  2.331468e-15  \n",
       "3  2.185476e-15  \n",
       "4  4.710277e-16  "
      ]
     },
     "execution_count": 91,
     "metadata": {},
     "output_type": "execute_result"
    }
   ],
   "source": [
    "df_org = pd.read_csv(\"datasets/iris.csv\")\n",
    "df = pd.read_csv(\"datasets/iris.csv\", usecols = ['sepal_length', 'sepal_width', 'petal_length', 'petal_width'])\n",
    "embedding = SpectralEmbedding(n_components=2)\n",
    "df_trans = embedding.fit_transform(df)\n",
    "df_org[\"Emb_dim1\"] = df_trans[:,0]\n",
    "df_org[\"Emb_dim2\"] = df_trans[:,1]\n",
    "df_org.to_csv(\"embedded_datasets/iris_spectrale.csv\")\n",
    "df_org.head()"
   ]
  },
  {
   "cell_type": "markdown",
   "metadata": {},
   "source": [
    "#### Isomap"
   ]
  },
  {
   "cell_type": "code",
   "execution_count": 92,
   "metadata": {},
   "outputs": [
    {
     "data": {
      "text/html": [
       "<div>\n",
       "<style>\n",
       "    .dataframe thead tr:only-child th {\n",
       "        text-align: right;\n",
       "    }\n",
       "\n",
       "    .dataframe thead th {\n",
       "        text-align: left;\n",
       "    }\n",
       "\n",
       "    .dataframe tbody tr th {\n",
       "        vertical-align: top;\n",
       "    }\n",
       "</style>\n",
       "<table border=\"1\" class=\"dataframe\">\n",
       "  <thead>\n",
       "    <tr style=\"text-align: right;\">\n",
       "      <th></th>\n",
       "      <th>sepal_length</th>\n",
       "      <th>sepal_width</th>\n",
       "      <th>petal_length</th>\n",
       "      <th>petal_width</th>\n",
       "      <th>species</th>\n",
       "      <th>Emb_dim1</th>\n",
       "      <th>Emb_dim2</th>\n",
       "    </tr>\n",
       "  </thead>\n",
       "  <tbody>\n",
       "    <tr>\n",
       "      <th>0</th>\n",
       "      <td>5.1</td>\n",
       "      <td>3.5</td>\n",
       "      <td>1.4</td>\n",
       "      <td>0.2</td>\n",
       "      <td>setosa</td>\n",
       "      <td>-0.118155</td>\n",
       "      <td>-0.381038</td>\n",
       "    </tr>\n",
       "    <tr>\n",
       "      <th>1</th>\n",
       "      <td>4.9</td>\n",
       "      <td>3.0</td>\n",
       "      <td>1.4</td>\n",
       "      <td>0.2</td>\n",
       "      <td>setosa</td>\n",
       "      <td>-0.113729</td>\n",
       "      <td>-0.323243</td>\n",
       "    </tr>\n",
       "    <tr>\n",
       "      <th>2</th>\n",
       "      <td>4.7</td>\n",
       "      <td>3.2</td>\n",
       "      <td>1.3</td>\n",
       "      <td>0.2</td>\n",
       "      <td>setosa</td>\n",
       "      <td>-0.113922</td>\n",
       "      <td>-0.325955</td>\n",
       "    </tr>\n",
       "    <tr>\n",
       "      <th>3</th>\n",
       "      <td>4.6</td>\n",
       "      <td>3.1</td>\n",
       "      <td>1.5</td>\n",
       "      <td>0.2</td>\n",
       "      <td>setosa</td>\n",
       "      <td>-0.113904</td>\n",
       "      <td>-0.325207</td>\n",
       "    </tr>\n",
       "    <tr>\n",
       "      <th>4</th>\n",
       "      <td>5.0</td>\n",
       "      <td>3.6</td>\n",
       "      <td>1.4</td>\n",
       "      <td>0.2</td>\n",
       "      <td>setosa</td>\n",
       "      <td>-0.117613</td>\n",
       "      <td>-0.372992</td>\n",
       "    </tr>\n",
       "  </tbody>\n",
       "</table>\n",
       "</div>"
      ],
      "text/plain": [
       "   sepal_length  sepal_width  petal_length  petal_width species  Emb_dim1  \\\n",
       "0           5.1          3.5           1.4          0.2  setosa -0.118155   \n",
       "1           4.9          3.0           1.4          0.2  setosa -0.113729   \n",
       "2           4.7          3.2           1.3          0.2  setosa -0.113922   \n",
       "3           4.6          3.1           1.5          0.2  setosa -0.113904   \n",
       "4           5.0          3.6           1.4          0.2  setosa -0.117613   \n",
       "\n",
       "   Emb_dim2  \n",
       "0 -0.381038  \n",
       "1 -0.323243  \n",
       "2 -0.325955  \n",
       "3 -0.325207  \n",
       "4 -0.372992  "
      ]
     },
     "execution_count": 92,
     "metadata": {},
     "output_type": "execute_result"
    }
   ],
   "source": [
    "df_org = pd.read_csv(\"datasets/iris.csv\")\n",
    "df = pd.read_csv(\"datasets/iris.csv\", usecols = ['sepal_length', 'sepal_width', 'petal_length', 'petal_width'])\n",
    "embedding = Isomap(n_components=2)\n",
    "df_trans = embedding.fit_transform(df)\n",
    "df_org[\"Emb_dim1\"] = df_trans[:,0]\n",
    "df_org[\"Emb_dim2\"] = df_trans[:,1]\n",
    "df_org.to_csv(\"embedded_datasets/iris_isomap.csv\")\n",
    "df_org.head()"
   ]
  },
  {
   "cell_type": "markdown",
   "metadata": {},
   "source": [
    "#### Locally Linear Embedding"
   ]
  },
  {
   "cell_type": "code",
   "execution_count": 101,
   "metadata": {},
   "outputs": [
    {
     "data": {
      "text/html": [
       "<div>\n",
       "<style>\n",
       "    .dataframe thead tr:only-child th {\n",
       "        text-align: right;\n",
       "    }\n",
       "\n",
       "    .dataframe thead th {\n",
       "        text-align: left;\n",
       "    }\n",
       "\n",
       "    .dataframe tbody tr th {\n",
       "        vertical-align: top;\n",
       "    }\n",
       "</style>\n",
       "<table border=\"1\" class=\"dataframe\">\n",
       "  <thead>\n",
       "    <tr style=\"text-align: right;\">\n",
       "      <th></th>\n",
       "      <th>sepal_length</th>\n",
       "      <th>sepal_width</th>\n",
       "      <th>petal_length</th>\n",
       "      <th>petal_width</th>\n",
       "      <th>species</th>\n",
       "      <th>Emb_dim1</th>\n",
       "      <th>Emb_dim2</th>\n",
       "    </tr>\n",
       "  </thead>\n",
       "  <tbody>\n",
       "    <tr>\n",
       "      <th>0</th>\n",
       "      <td>5.1</td>\n",
       "      <td>3.5</td>\n",
       "      <td>1.4</td>\n",
       "      <td>0.2</td>\n",
       "      <td>setosa</td>\n",
       "      <td>0.0</td>\n",
       "      <td>0.0</td>\n",
       "    </tr>\n",
       "    <tr>\n",
       "      <th>1</th>\n",
       "      <td>4.9</td>\n",
       "      <td>3.0</td>\n",
       "      <td>1.4</td>\n",
       "      <td>0.2</td>\n",
       "      <td>setosa</td>\n",
       "      <td>0.0</td>\n",
       "      <td>0.0</td>\n",
       "    </tr>\n",
       "    <tr>\n",
       "      <th>2</th>\n",
       "      <td>4.7</td>\n",
       "      <td>3.2</td>\n",
       "      <td>1.3</td>\n",
       "      <td>0.2</td>\n",
       "      <td>setosa</td>\n",
       "      <td>0.0</td>\n",
       "      <td>0.0</td>\n",
       "    </tr>\n",
       "    <tr>\n",
       "      <th>3</th>\n",
       "      <td>4.6</td>\n",
       "      <td>3.1</td>\n",
       "      <td>1.5</td>\n",
       "      <td>0.2</td>\n",
       "      <td>setosa</td>\n",
       "      <td>0.0</td>\n",
       "      <td>0.0</td>\n",
       "    </tr>\n",
       "    <tr>\n",
       "      <th>4</th>\n",
       "      <td>5.0</td>\n",
       "      <td>3.6</td>\n",
       "      <td>1.4</td>\n",
       "      <td>0.2</td>\n",
       "      <td>setosa</td>\n",
       "      <td>0.0</td>\n",
       "      <td>0.0</td>\n",
       "    </tr>\n",
       "  </tbody>\n",
       "</table>\n",
       "</div>"
      ],
      "text/plain": [
       "   sepal_length  sepal_width  petal_length  petal_width species  Emb_dim1  \\\n",
       "0           5.1          3.5           1.4          0.2  setosa       0.0   \n",
       "1           4.9          3.0           1.4          0.2  setosa       0.0   \n",
       "2           4.7          3.2           1.3          0.2  setosa       0.0   \n",
       "3           4.6          3.1           1.5          0.2  setosa       0.0   \n",
       "4           5.0          3.6           1.4          0.2  setosa       0.0   \n",
       "\n",
       "   Emb_dim2  \n",
       "0       0.0  \n",
       "1       0.0  \n",
       "2       0.0  \n",
       "3       0.0  \n",
       "4       0.0  "
      ]
     },
     "execution_count": 101,
     "metadata": {},
     "output_type": "execute_result"
    }
   ],
   "source": [
    "df_org = pd.read_csv(\"datasets/iris.csv\")\n",
    "df = pd.read_csv(\"datasets/iris.csv\", usecols = ['sepal_length', 'sepal_width', 'petal_length', 'petal_width'])\n",
    "embedding = LocallyLinearEmbedding(n_components=2)\n",
    "df_trans = embedding.fit_transform(df)\n",
    "df_org[\"Emb_dim1\"] = df_trans[:,0]\n",
    "df_org[\"Emb_dim2\"] = df_trans[:,1]\n",
    "df_org.to_csv(\"embedded_datasets/iris_lle.csv\")\n",
    "df_org.head()"
   ]
  },
  {
   "cell_type": "markdown",
   "metadata": {},
   "source": [
    "#### t-SNE"
   ]
  },
  {
   "cell_type": "code",
   "execution_count": 123,
   "metadata": {
    "scrolled": true
   },
   "outputs": [
    {
     "data": {
      "text/html": [
       "<div>\n",
       "<style>\n",
       "    .dataframe thead tr:only-child th {\n",
       "        text-align: right;\n",
       "    }\n",
       "\n",
       "    .dataframe thead th {\n",
       "        text-align: left;\n",
       "    }\n",
       "\n",
       "    .dataframe tbody tr th {\n",
       "        vertical-align: top;\n",
       "    }\n",
       "</style>\n",
       "<table border=\"1\" class=\"dataframe\">\n",
       "  <thead>\n",
       "    <tr style=\"text-align: right;\">\n",
       "      <th></th>\n",
       "      <th>sepal_length</th>\n",
       "      <th>sepal_width</th>\n",
       "      <th>petal_length</th>\n",
       "      <th>petal_width</th>\n",
       "      <th>species</th>\n",
       "      <th>Emb_dim1</th>\n",
       "      <th>Emb_dim2</th>\n",
       "    </tr>\n",
       "  </thead>\n",
       "  <tbody>\n",
       "    <tr>\n",
       "      <th>0</th>\n",
       "      <td>5.1</td>\n",
       "      <td>3.5</td>\n",
       "      <td>1.4</td>\n",
       "      <td>0.2</td>\n",
       "      <td>setosa</td>\n",
       "      <td>12.528808</td>\n",
       "      <td>-22.938295</td>\n",
       "    </tr>\n",
       "    <tr>\n",
       "      <th>1</th>\n",
       "      <td>4.9</td>\n",
       "      <td>3.0</td>\n",
       "      <td>1.4</td>\n",
       "      <td>0.2</td>\n",
       "      <td>setosa</td>\n",
       "      <td>12.905942</td>\n",
       "      <td>-25.360151</td>\n",
       "    </tr>\n",
       "    <tr>\n",
       "      <th>2</th>\n",
       "      <td>4.7</td>\n",
       "      <td>3.2</td>\n",
       "      <td>1.3</td>\n",
       "      <td>0.2</td>\n",
       "      <td>setosa</td>\n",
       "      <td>12.229882</td>\n",
       "      <td>-25.706732</td>\n",
       "    </tr>\n",
       "    <tr>\n",
       "      <th>3</th>\n",
       "      <td>4.6</td>\n",
       "      <td>3.1</td>\n",
       "      <td>1.5</td>\n",
       "      <td>0.2</td>\n",
       "      <td>setosa</td>\n",
       "      <td>12.004704</td>\n",
       "      <td>-25.912086</td>\n",
       "    </tr>\n",
       "    <tr>\n",
       "      <th>4</th>\n",
       "      <td>5.0</td>\n",
       "      <td>3.6</td>\n",
       "      <td>1.4</td>\n",
       "      <td>0.2</td>\n",
       "      <td>setosa</td>\n",
       "      <td>12.104832</td>\n",
       "      <td>-22.881603</td>\n",
       "    </tr>\n",
       "  </tbody>\n",
       "</table>\n",
       "</div>"
      ],
      "text/plain": [
       "   sepal_length  sepal_width  petal_length  petal_width species   Emb_dim1  \\\n",
       "0           5.1          3.5           1.4          0.2  setosa  12.528808   \n",
       "1           4.9          3.0           1.4          0.2  setosa  12.905942   \n",
       "2           4.7          3.2           1.3          0.2  setosa  12.229882   \n",
       "3           4.6          3.1           1.5          0.2  setosa  12.004704   \n",
       "4           5.0          3.6           1.4          0.2  setosa  12.104832   \n",
       "\n",
       "    Emb_dim2  \n",
       "0 -22.938295  \n",
       "1 -25.360151  \n",
       "2 -25.706732  \n",
       "3 -25.912086  \n",
       "4 -22.881603  "
      ]
     },
     "execution_count": 123,
     "metadata": {},
     "output_type": "execute_result"
    }
   ],
   "source": [
    "df_org = pd.read_csv(\"datasets/iris.csv\")\n",
    "df = pd.read_csv(\"datasets/iris.csv\", usecols = ['sepal_length', 'sepal_width', 'petal_length', 'petal_width'])\n",
    "embedding = TSNE(n_components=2)\n",
    "df_trans = embedding.fit_transform(df)\n",
    "df_org[\"Emb_dim1\"] = df_trans[:,0]\n",
    "df_org[\"Emb_dim2\"] = df_trans[:,1]\n",
    "df_org.to_csv(\"embedded_datasets/iris_tsne.csv\")\n",
    "df_org.head()"
   ]
  },
  {
   "cell_type": "code",
   "execution_count": null,
   "metadata": {
    "collapsed": true
   },
   "outputs": [],
   "source": []
  },
  {
   "cell_type": "code",
   "execution_count": 20,
   "metadata": {
    "collapsed": true
   },
   "outputs": [],
   "source": [
    "df = pd.read_csv(\"datasets/mpg.csv\")\n",
    "df = pd.DataFrame(df, columns=['trans', 'cyl', 'T', 'class', 'year', 'cty', 'hwy', 'displ'])\n",
    "df = df.rename(columns={'cty': 'mpg_city', 'hwy': 'mpg_highway', 'trans': 'transmission',\n",
    "                        'T': 'turbo', 'cyl': 'cylinder', 'class': 'car_size', 'displ': 'displacement'})\n",
    "df = pd.DataFrame(df, columns=['transmission', 'cylinder', 'turbo', 'car_size', 'year', 'mpg_city', 'mpg_highway', 'displacement'])\n",
    "\n",
    "df.car_size.replace(to_replace={'pickup': 'large', 'suv': 'midsize', 'station wagon': 'midsize', 'compact': 'small', 'passenger van': 'large', 'cargo van': 'large', 'two seater': 'small', 'large car': 'large', 'midsize car': 'midsize', 'compact car': 'small'}, inplace=True)\n",
    "\n",
    "df.cylinder.replace(to_replace={2: 'few', 3: 'few', 4: 'few', 5: 'medium', 6: 'medium', 7: 'medium', 8: 'medium', 10: 'many', 12: 'many', 16: 'many'}, inplace=True)\n",
    "\n",
    "df.replace(to_replace={'transmission': {'auto.*': 'auto'}}, inplace=True, regex=True)\n",
    "\n",
    "df.replace(to_replace={'transmission': {'lock-up.*': 'lock-up'}}, inplace=True, regex=True)\n",
    "\n",
    "df.replace(to_replace={'transmission': {'manual.*': 'manual'}}, inplace=True, regex=True)\n",
    "\n",
    "df = df.drop(df[df.transmission == 'semi-auto'].index)\n",
    "df = df.drop(df[df.transmission == 'creeper(C5)'].index)\n",
    "df = df.drop(df[df.car_size == 'spv'].index)\n",
    "df = df.dropna(axis=0)\n",
    "df.reset_index(drop=True, inplace=True)\n",
    "\n",
    "for col in ['transmission', 'cylinder', 'turbo', 'car_size']:\n",
    "    df[col] = df[col].astype('str')\n",
    "\n",
    "del df['turbo']\n",
    "df_save = df"
   ]
  },
  {
   "cell_type": "code",
   "execution_count": 22,
   "metadata": {
    "collapsed": true
   },
   "outputs": [],
   "source": [
    "df_save.to_csv(\"datasets/mpg.csv\")"
   ]
  },
  {
   "cell_type": "code",
   "execution_count": 127,
   "metadata": {},
   "outputs": [
    {
     "data": {
      "text/html": [
       "<div>\n",
       "<style>\n",
       "    .dataframe thead tr:only-child th {\n",
       "        text-align: right;\n",
       "    }\n",
       "\n",
       "    .dataframe thead th {\n",
       "        text-align: left;\n",
       "    }\n",
       "\n",
       "    .dataframe tbody tr th {\n",
       "        vertical-align: top;\n",
       "    }\n",
       "</style>\n",
       "<table border=\"1\" class=\"dataframe\">\n",
       "  <thead>\n",
       "    <tr style=\"text-align: right;\">\n",
       "      <th></th>\n",
       "      <th>transmission</th>\n",
       "      <th>cylinder</th>\n",
       "      <th>car_size</th>\n",
       "      <th>year</th>\n",
       "      <th>mpg_city</th>\n",
       "      <th>mpg_highway</th>\n",
       "      <th>displacement</th>\n",
       "      <th>Emb_dim1</th>\n",
       "      <th>Emb_dim2</th>\n",
       "    </tr>\n",
       "  </thead>\n",
       "  <tbody>\n",
       "    <tr>\n",
       "      <th>0</th>\n",
       "      <td>auto</td>\n",
       "      <td>few</td>\n",
       "      <td>small</td>\n",
       "      <td>1985</td>\n",
       "      <td>17.0</td>\n",
       "      <td>17.0</td>\n",
       "      <td>2.2960</td>\n",
       "      <td>-79.760368</td>\n",
       "      <td>51.356476</td>\n",
       "    </tr>\n",
       "    <tr>\n",
       "      <th>1</th>\n",
       "      <td>auto</td>\n",
       "      <td>few</td>\n",
       "      <td>small</td>\n",
       "      <td>1985</td>\n",
       "      <td>17.0</td>\n",
       "      <td>17.0</td>\n",
       "      <td>2.2960</td>\n",
       "      <td>-79.760368</td>\n",
       "      <td>51.356476</td>\n",
       "    </tr>\n",
       "    <tr>\n",
       "      <th>2</th>\n",
       "      <td>lock-up</td>\n",
       "      <td>medium</td>\n",
       "      <td>small</td>\n",
       "      <td>1985</td>\n",
       "      <td>21.0</td>\n",
       "      <td>27.0</td>\n",
       "      <td>2.4436</td>\n",
       "      <td>77.266411</td>\n",
       "      <td>-46.673534</td>\n",
       "    </tr>\n",
       "    <tr>\n",
       "      <th>3</th>\n",
       "      <td>lock-up</td>\n",
       "      <td>medium</td>\n",
       "      <td>small</td>\n",
       "      <td>1985</td>\n",
       "      <td>18.0</td>\n",
       "      <td>24.0</td>\n",
       "      <td>2.6896</td>\n",
       "      <td>-12.142454</td>\n",
       "      <td>16.302458</td>\n",
       "    </tr>\n",
       "    <tr>\n",
       "      <th>4</th>\n",
       "      <td>manual</td>\n",
       "      <td>medium</td>\n",
       "      <td>small</td>\n",
       "      <td>1985</td>\n",
       "      <td>18.0</td>\n",
       "      <td>23.0</td>\n",
       "      <td>2.6896</td>\n",
       "      <td>-29.759903</td>\n",
       "      <td>17.950548</td>\n",
       "    </tr>\n",
       "  </tbody>\n",
       "</table>\n",
       "</div>"
      ],
      "text/plain": [
       "  transmission cylinder car_size  year  mpg_city  mpg_highway  displacement  \\\n",
       "0         auto      few    small  1985      17.0         17.0        2.2960   \n",
       "1         auto      few    small  1985      17.0         17.0        2.2960   \n",
       "2      lock-up   medium    small  1985      21.0         27.0        2.4436   \n",
       "3      lock-up   medium    small  1985      18.0         24.0        2.6896   \n",
       "4       manual   medium    small  1985      18.0         23.0        2.6896   \n",
       "\n",
       "    Emb_dim1   Emb_dim2  \n",
       "0 -79.760368  51.356476  \n",
       "1 -79.760368  51.356476  \n",
       "2  77.266411 -46.673534  \n",
       "3 -12.142454  16.302458  \n",
       "4 -29.759903  17.950548  "
      ]
     },
     "execution_count": 127,
     "metadata": {},
     "output_type": "execute_result"
    }
   ],
   "source": [
    "df_org = df_save\n",
    "df = pd.DataFrame(df_save, columns = ['year', 'mpg_city', 'mpg_highway', 'displacement'])\n",
    "embedding = TSNE(n_components=2)\n",
    "df_trans = embedding.fit_transform(df)\n",
    "df_org[\"Emb_dim1\"] = df_trans[:,0]\n",
    "df_org[\"Emb_dim2\"] = df_trans[:,1]\n",
    "df_org.to_csv(\"embedded_datasets/mpg_tsne.csv\")\n",
    "df_org.head()"
   ]
  },
  {
   "cell_type": "code",
   "execution_count": 126,
   "metadata": {},
   "outputs": [
    {
     "data": {
      "text/html": [
       "<div>\n",
       "<style>\n",
       "    .dataframe thead tr:only-child th {\n",
       "        text-align: right;\n",
       "    }\n",
       "\n",
       "    .dataframe thead th {\n",
       "        text-align: left;\n",
       "    }\n",
       "\n",
       "    .dataframe tbody tr th {\n",
       "        vertical-align: top;\n",
       "    }\n",
       "</style>\n",
       "<table border=\"1\" class=\"dataframe\">\n",
       "  <thead>\n",
       "    <tr style=\"text-align: right;\">\n",
       "      <th></th>\n",
       "      <th>transmission</th>\n",
       "      <th>cylinder</th>\n",
       "      <th>car_size</th>\n",
       "      <th>year</th>\n",
       "      <th>mpg_city</th>\n",
       "      <th>mpg_highway</th>\n",
       "      <th>displacement</th>\n",
       "      <th>Emb_dim1</th>\n",
       "      <th>Emb_dim2</th>\n",
       "    </tr>\n",
       "  </thead>\n",
       "  <tbody>\n",
       "    <tr>\n",
       "      <th>0</th>\n",
       "      <td>auto</td>\n",
       "      <td>few</td>\n",
       "      <td>small</td>\n",
       "      <td>1985</td>\n",
       "      <td>17.0</td>\n",
       "      <td>17.0</td>\n",
       "      <td>2.2960</td>\n",
       "      <td>-0.316966</td>\n",
       "      <td>0.260845</td>\n",
       "    </tr>\n",
       "    <tr>\n",
       "      <th>1</th>\n",
       "      <td>auto</td>\n",
       "      <td>few</td>\n",
       "      <td>small</td>\n",
       "      <td>1985</td>\n",
       "      <td>17.0</td>\n",
       "      <td>17.0</td>\n",
       "      <td>2.2960</td>\n",
       "      <td>-0.316966</td>\n",
       "      <td>0.260845</td>\n",
       "    </tr>\n",
       "    <tr>\n",
       "      <th>2</th>\n",
       "      <td>lock-up</td>\n",
       "      <td>medium</td>\n",
       "      <td>small</td>\n",
       "      <td>1985</td>\n",
       "      <td>21.0</td>\n",
       "      <td>27.0</td>\n",
       "      <td>2.4436</td>\n",
       "      <td>-0.362700</td>\n",
       "      <td>-0.294748</td>\n",
       "    </tr>\n",
       "    <tr>\n",
       "      <th>3</th>\n",
       "      <td>lock-up</td>\n",
       "      <td>medium</td>\n",
       "      <td>small</td>\n",
       "      <td>1985</td>\n",
       "      <td>18.0</td>\n",
       "      <td>24.0</td>\n",
       "      <td>2.6896</td>\n",
       "      <td>-0.420926</td>\n",
       "      <td>-0.038883</td>\n",
       "    </tr>\n",
       "    <tr>\n",
       "      <th>4</th>\n",
       "      <td>manual</td>\n",
       "      <td>medium</td>\n",
       "      <td>small</td>\n",
       "      <td>1985</td>\n",
       "      <td>18.0</td>\n",
       "      <td>23.0</td>\n",
       "      <td>2.6896</td>\n",
       "      <td>-0.426853</td>\n",
       "      <td>0.015979</td>\n",
       "    </tr>\n",
       "  </tbody>\n",
       "</table>\n",
       "</div>"
      ],
      "text/plain": [
       "  transmission cylinder car_size  year  mpg_city  mpg_highway  displacement  \\\n",
       "0         auto      few    small  1985      17.0         17.0        2.2960   \n",
       "1         auto      few    small  1985      17.0         17.0        2.2960   \n",
       "2      lock-up   medium    small  1985      21.0         27.0        2.4436   \n",
       "3      lock-up   medium    small  1985      18.0         24.0        2.6896   \n",
       "4       manual   medium    small  1985      18.0         23.0        2.6896   \n",
       "\n",
       "   Emb_dim1  Emb_dim2  \n",
       "0 -0.316966  0.260845  \n",
       "1 -0.316966  0.260845  \n",
       "2 -0.362700 -0.294748  \n",
       "3 -0.420926 -0.038883  \n",
       "4 -0.426853  0.015979  "
      ]
     },
     "execution_count": 126,
     "metadata": {},
     "output_type": "execute_result"
    }
   ],
   "source": [
    "df_org = df_save\n",
    "df = pd.DataFrame(df_save, columns = ['year', 'mpg_city', 'mpg_highway', 'displacement'])\n",
    "embedding = SpectralEmbedding(n_components=2)\n",
    "df_trans = embedding.fit_transform(df)\n",
    "df_org[\"Emb_dim1\"] = df_trans[:,0]\n",
    "df_org[\"Emb_dim2\"] = df_trans[:,1]\n",
    "df_org.to_csv(\"embedded_datasets/mpg_spectrale.csv\")\n",
    "df_org.head()"
   ]
  },
  {
   "cell_type": "code",
   "execution_count": null,
   "metadata": {
    "collapsed": true
   },
   "outputs": [],
   "source": [
    "df_org = df_save\n",
    "df = pd.DataFrame(df_save, columns = ['year', 'mpg_city', 'mpg_highway', 'displacement'])\n",
    "embedding = Isomap(n_components=2)\n",
    "df_trans = embedding.fit_transform(df)\n",
    "df_org[\"Emb_dim1\"] = df_trans[:,0]\n",
    "df_org[\"Emb_dim2\"] = df_trans[:,1]\n",
    "df_org.to_csv(\"embedded_datasets/mpg_isomap.csv\")\n",
    "df_org.head()"
   ]
  },
  {
   "cell_type": "code",
   "execution_count": null,
   "metadata": {
    "collapsed": true
   },
   "outputs": [],
   "source": [
    "df_org = df_save\n",
    "df = pd.DataFrame(df_save, columns = ['year', 'mpg_city', 'mpg_highway', 'displacement'])\n",
    "embedding = LocallyLinearEmbeddingallyLinearEmbeddingallyLinearEmbedding(n_components=2)\n",
    "df_trans = embedding.fit_transform(df)\n",
    "df_org[\"Emb_dim1\"] = df_trans[:,0]\n",
    "df_org[\"Emb_dim2\"] = df_trans[:,1]\n",
    "df_org.to_csv(\"embedded_datasets/mpg_lle.csv\")\n",
    "df_org.head()"
   ]
  },
  {
   "cell_type": "code",
   "execution_count": null,
   "metadata": {
    "collapsed": true
   },
   "outputs": [],
   "source": []
  }
 ],
 "metadata": {
  "kernelspec": {
   "display_name": "Python 3",
   "language": "python",
   "name": "python3"
  },
  "language_info": {
   "codemirror_mode": {
    "name": "ipython",
    "version": 3
   },
   "file_extension": ".py",
   "mimetype": "text/x-python",
   "name": "python",
   "nbconvert_exporter": "python",
   "pygments_lexer": "ipython3",
   "version": "3.6.3"
  }
 },
 "nbformat": 4,
 "nbformat_minor": 2
}
