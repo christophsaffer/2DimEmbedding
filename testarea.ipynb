{
 "cells": [
  {
   "cell_type": "code",
   "execution_count": 194,
   "metadata": {
    "collapsed": true
   },
   "outputs": [],
   "source": [
    "import pandas as pd\n",
    "import numpy as np"
   ]
  },
  {
   "cell_type": "code",
   "execution_count": 331,
   "metadata": {
    "collapsed": true
   },
   "outputs": [],
   "source": [
    "df = pd.read_csv(\"datasets/houseprices_train.csv\", index_col=0)"
   ]
  },
  {
   "cell_type": "code",
   "execution_count": 332,
   "metadata": {},
   "outputs": [
    {
     "data": {
      "text/html": [
       "<div>\n",
       "<style>\n",
       "    .dataframe thead tr:only-child th {\n",
       "        text-align: right;\n",
       "    }\n",
       "\n",
       "    .dataframe thead th {\n",
       "        text-align: left;\n",
       "    }\n",
       "\n",
       "    .dataframe tbody tr th {\n",
       "        vertical-align: top;\n",
       "    }\n",
       "</style>\n",
       "<table border=\"1\" class=\"dataframe\">\n",
       "  <thead>\n",
       "    <tr style=\"text-align: right;\">\n",
       "      <th></th>\n",
       "      <th>MSSubClass</th>\n",
       "      <th>MSZoning</th>\n",
       "      <th>LotFrontage</th>\n",
       "      <th>LotArea</th>\n",
       "      <th>Street</th>\n",
       "      <th>Alley</th>\n",
       "      <th>LotShape</th>\n",
       "      <th>LandContour</th>\n",
       "      <th>Utilities</th>\n",
       "      <th>LotConfig</th>\n",
       "      <th>...</th>\n",
       "      <th>PoolArea</th>\n",
       "      <th>PoolQC</th>\n",
       "      <th>Fence</th>\n",
       "      <th>MiscFeature</th>\n",
       "      <th>MiscVal</th>\n",
       "      <th>MoSold</th>\n",
       "      <th>YrSold</th>\n",
       "      <th>SaleType</th>\n",
       "      <th>SaleCondition</th>\n",
       "      <th>SalePrice</th>\n",
       "    </tr>\n",
       "    <tr>\n",
       "      <th>Id</th>\n",
       "      <th></th>\n",
       "      <th></th>\n",
       "      <th></th>\n",
       "      <th></th>\n",
       "      <th></th>\n",
       "      <th></th>\n",
       "      <th></th>\n",
       "      <th></th>\n",
       "      <th></th>\n",
       "      <th></th>\n",
       "      <th></th>\n",
       "      <th></th>\n",
       "      <th></th>\n",
       "      <th></th>\n",
       "      <th></th>\n",
       "      <th></th>\n",
       "      <th></th>\n",
       "      <th></th>\n",
       "      <th></th>\n",
       "      <th></th>\n",
       "      <th></th>\n",
       "    </tr>\n",
       "  </thead>\n",
       "  <tbody>\n",
       "    <tr>\n",
       "      <th>1</th>\n",
       "      <td>60</td>\n",
       "      <td>RL</td>\n",
       "      <td>65.0</td>\n",
       "      <td>8450</td>\n",
       "      <td>Pave</td>\n",
       "      <td>NaN</td>\n",
       "      <td>Reg</td>\n",
       "      <td>Lvl</td>\n",
       "      <td>AllPub</td>\n",
       "      <td>Inside</td>\n",
       "      <td>...</td>\n",
       "      <td>0</td>\n",
       "      <td>NaN</td>\n",
       "      <td>NaN</td>\n",
       "      <td>NaN</td>\n",
       "      <td>0</td>\n",
       "      <td>2</td>\n",
       "      <td>2008</td>\n",
       "      <td>WD</td>\n",
       "      <td>Normal</td>\n",
       "      <td>208500</td>\n",
       "    </tr>\n",
       "    <tr>\n",
       "      <th>2</th>\n",
       "      <td>20</td>\n",
       "      <td>RL</td>\n",
       "      <td>80.0</td>\n",
       "      <td>9600</td>\n",
       "      <td>Pave</td>\n",
       "      <td>NaN</td>\n",
       "      <td>Reg</td>\n",
       "      <td>Lvl</td>\n",
       "      <td>AllPub</td>\n",
       "      <td>FR2</td>\n",
       "      <td>...</td>\n",
       "      <td>0</td>\n",
       "      <td>NaN</td>\n",
       "      <td>NaN</td>\n",
       "      <td>NaN</td>\n",
       "      <td>0</td>\n",
       "      <td>5</td>\n",
       "      <td>2007</td>\n",
       "      <td>WD</td>\n",
       "      <td>Normal</td>\n",
       "      <td>181500</td>\n",
       "    </tr>\n",
       "    <tr>\n",
       "      <th>3</th>\n",
       "      <td>60</td>\n",
       "      <td>RL</td>\n",
       "      <td>68.0</td>\n",
       "      <td>11250</td>\n",
       "      <td>Pave</td>\n",
       "      <td>NaN</td>\n",
       "      <td>IR1</td>\n",
       "      <td>Lvl</td>\n",
       "      <td>AllPub</td>\n",
       "      <td>Inside</td>\n",
       "      <td>...</td>\n",
       "      <td>0</td>\n",
       "      <td>NaN</td>\n",
       "      <td>NaN</td>\n",
       "      <td>NaN</td>\n",
       "      <td>0</td>\n",
       "      <td>9</td>\n",
       "      <td>2008</td>\n",
       "      <td>WD</td>\n",
       "      <td>Normal</td>\n",
       "      <td>223500</td>\n",
       "    </tr>\n",
       "    <tr>\n",
       "      <th>4</th>\n",
       "      <td>70</td>\n",
       "      <td>RL</td>\n",
       "      <td>60.0</td>\n",
       "      <td>9550</td>\n",
       "      <td>Pave</td>\n",
       "      <td>NaN</td>\n",
       "      <td>IR1</td>\n",
       "      <td>Lvl</td>\n",
       "      <td>AllPub</td>\n",
       "      <td>Corner</td>\n",
       "      <td>...</td>\n",
       "      <td>0</td>\n",
       "      <td>NaN</td>\n",
       "      <td>NaN</td>\n",
       "      <td>NaN</td>\n",
       "      <td>0</td>\n",
       "      <td>2</td>\n",
       "      <td>2006</td>\n",
       "      <td>WD</td>\n",
       "      <td>Abnorml</td>\n",
       "      <td>140000</td>\n",
       "    </tr>\n",
       "    <tr>\n",
       "      <th>5</th>\n",
       "      <td>60</td>\n",
       "      <td>RL</td>\n",
       "      <td>84.0</td>\n",
       "      <td>14260</td>\n",
       "      <td>Pave</td>\n",
       "      <td>NaN</td>\n",
       "      <td>IR1</td>\n",
       "      <td>Lvl</td>\n",
       "      <td>AllPub</td>\n",
       "      <td>FR2</td>\n",
       "      <td>...</td>\n",
       "      <td>0</td>\n",
       "      <td>NaN</td>\n",
       "      <td>NaN</td>\n",
       "      <td>NaN</td>\n",
       "      <td>0</td>\n",
       "      <td>12</td>\n",
       "      <td>2008</td>\n",
       "      <td>WD</td>\n",
       "      <td>Normal</td>\n",
       "      <td>250000</td>\n",
       "    </tr>\n",
       "  </tbody>\n",
       "</table>\n",
       "<p>5 rows × 80 columns</p>\n",
       "</div>"
      ],
      "text/plain": [
       "    MSSubClass MSZoning  LotFrontage  LotArea Street Alley LotShape  \\\n",
       "Id                                                                    \n",
       "1           60       RL         65.0     8450   Pave   NaN      Reg   \n",
       "2           20       RL         80.0     9600   Pave   NaN      Reg   \n",
       "3           60       RL         68.0    11250   Pave   NaN      IR1   \n",
       "4           70       RL         60.0     9550   Pave   NaN      IR1   \n",
       "5           60       RL         84.0    14260   Pave   NaN      IR1   \n",
       "\n",
       "   LandContour Utilities LotConfig    ...     PoolArea PoolQC Fence  \\\n",
       "Id                                    ...                             \n",
       "1          Lvl    AllPub    Inside    ...            0    NaN   NaN   \n",
       "2          Lvl    AllPub       FR2    ...            0    NaN   NaN   \n",
       "3          Lvl    AllPub    Inside    ...            0    NaN   NaN   \n",
       "4          Lvl    AllPub    Corner    ...            0    NaN   NaN   \n",
       "5          Lvl    AllPub       FR2    ...            0    NaN   NaN   \n",
       "\n",
       "   MiscFeature MiscVal MoSold  YrSold  SaleType  SaleCondition  SalePrice  \n",
       "Id                                                                         \n",
       "1          NaN       0      2    2008        WD         Normal     208500  \n",
       "2          NaN       0      5    2007        WD         Normal     181500  \n",
       "3          NaN       0      9    2008        WD         Normal     223500  \n",
       "4          NaN       0      2    2006        WD        Abnorml     140000  \n",
       "5          NaN       0     12    2008        WD         Normal     250000  \n",
       "\n",
       "[5 rows x 80 columns]"
      ]
     },
     "execution_count": 332,
     "metadata": {},
     "output_type": "execute_result"
    }
   ],
   "source": [
    "df.head()"
   ]
  },
  {
   "cell_type": "code",
   "execution_count": 361,
   "metadata": {},
   "outputs": [
    {
     "data": {
      "text/plain": [
       "1369"
      ]
     },
     "execution_count": 361,
     "metadata": {},
     "output_type": "execute_result"
    }
   ],
   "source": [
    "df[\"Alley\"].isnull().sum() "
   ]
  },
  {
   "cell_type": "code",
   "execution_count": 207,
   "metadata": {},
   "outputs": [],
   "source": [
    "del df['MSSubClass']\n",
    "del df['Neighborhood']\n",
    "del df['LotShape']\n",
    "del df['LotConfig']\n",
    "del df['Condition1']\n",
    "del df['Condition2']\n",
    "del df['RoofMatl']\n",
    "del df['RoofStyle']\n",
    "del df['Exterior1st']\n",
    "del df['Exterior2nd']\n",
    "del df['SaleType']\n",
    "del df['BsmtFinSF1']\n",
    "del df['BsmtFinSF2']\n",
    "del df['BsmtUnfSF']"
   ]
  },
  {
   "cell_type": "code",
   "execution_count": 208,
   "metadata": {
    "collapsed": true
   },
   "outputs": [],
   "source": [
    "#df.dropna(axis=1, inplace=True, thresh=2900)\n",
    "#df.dropna(axis=0, inplace=True)\n",
    "df.dropna(axis=1, inplace=True"
   ]
  },
  {
   "cell_type": "code",
   "execution_count": 328,
   "metadata": {},
   "outputs": [
    {
     "data": {
      "text/plain": [
       "'LandContour: Bnk  63, HLS  50, Low  36, Lvl 1311'"
      ]
     },
     "execution_count": 328,
     "metadata": {},
     "output_type": "execute_result"
    }
   ],
   "source": [
    "str(df.groupby(['LandContour']).size()).replace(\"  \", \" \").replace(\"\\n\", \", \").replace(\"  \", \" \").replace(\",\", \":\", 1).split(\", dtype\")[0]"
   ]
  },
  {
   "cell_type": "code",
   "execution_count": 209,
   "metadata": {},
   "outputs": [
    {
     "data": {
      "text/plain": [
       "1460"
      ]
     },
     "execution_count": 209,
     "metadata": {},
     "output_type": "execute_result"
    }
   ],
   "source": [
    "len(df)"
   ]
  },
  {
   "cell_type": "code",
   "execution_count": 221,
   "metadata": {},
   "outputs": [
    {
     "name": "stdout",
     "output_type": "stream",
     "text": [
      "MSSubClass - Range:  190 - 20\n",
      "LotFrontage - Range:  313.0 - 21.0\n",
      "LotArea - Range:  215245 - 1300\n",
      "OverallQual - Range:  10 - 1\n",
      "OverallCond - Range:  9 - 1\n",
      "YearBuilt - Range:  2010 - 1872\n",
      "YearRemodAdd - Range:  2010 - 1950\n",
      "MasVnrArea - Range:  1600.0 - 0.0\n",
      "BsmtFinSF1 - Range:  5644 - 0\n",
      "BsmtFinSF2 - Range:  1474 - 0\n",
      "BsmtUnfSF - Range:  2336 - 0\n",
      "TotalBsmtSF - Range:  6110 - 0\n",
      "1stFlrSF - Range:  4692 - 334\n",
      "2ndFlrSF - Range:  2065 - 0\n",
      "LowQualFinSF - Range:  572 - 0\n",
      "GrLivArea - Range:  5642 - 334\n",
      "BsmtFullBath - Range:  3 - 0\n",
      "BsmtHalfBath - Range:  2 - 0\n",
      "FullBath - Range:  3 - 0\n",
      "HalfBath - Range:  2 - 0\n",
      "BedroomAbvGr - Range:  8 - 0\n",
      "KitchenAbvGr - Range:  3 - 0\n",
      "TotRmsAbvGrd - Range:  14 - 2\n",
      "Fireplaces - Range:  3 - 0\n",
      "GarageYrBlt - Range:  2010.0 - 1900.0\n",
      "GarageCars - Range:  4 - 0\n",
      "GarageArea - Range:  1418 - 0\n",
      "WoodDeckSF - Range:  857 - 0\n",
      "OpenPorchSF - Range:  547 - 0\n",
      "EnclosedPorch - Range:  552 - 0\n",
      "3SsnPorch - Range:  508 - 0\n",
      "ScreenPorch - Range:  480 - 0\n",
      "PoolArea - Range:  738 - 0\n",
      "MiscVal - Range:  15500 - 0\n",
      "MoSold - Range:  12 - 1\n",
      "YrSold - Range:  2010 - 2006\n",
      "SalePrice - Range:  755000 - 34900\n",
      "# 37\n"
     ]
    }
   ],
   "source": [
    "index = 0\n",
    "for col in df.columns:\n",
    "    if (str(df[col].dtype) == \"float64\" or str(df[col].dtype) == \"int64\"):\n",
    "        print(df[col].name , \"- Range: \", df[col].max(), \"-\", df[col].min())\n",
    "        index = index+1\n",
    "        \n",
    "print(\"#\", index)\n",
    "        "
   ]
  },
  {
   "cell_type": "code",
   "execution_count": 330,
   "metadata": {},
   "outputs": [
    {
     "name": "stdout",
     "output_type": "stream",
     "text": [
      "# 5 - MSZoning: C (all)  10, FV   65, RH   16, RL   1151, RM   218\n",
      "\n",
      "# 2 - Street: Grvl  6, Pave 1454\n",
      "\n",
      "# 3 - Alley: Grvl 50, Pave 41\n",
      "\n",
      "# 4 - LotShape: IR1 484, IR2  41, IR3  10, Reg 925\n",
      "\n",
      "# 4 - LandContour: Bnk  63, HLS  50, Low  36, Lvl 1311\n",
      "\n",
      "# 2 - Utilities: AllPub 1459, NoSeWa  1\n",
      "\n",
      "# 5 - LotConfig: Corner  263, CulDSac  94, FR2   47, FR3   4, Inside  1052\n",
      "\n",
      "# 3 - LandSlope: Gtl 1382, Mod  65, Sev  13\n",
      "\n",
      "# 25 - Neighborhood: Blmngtn  17, Blueste  2, BrDale  16, BrkSide  58, ClearCr  28, CollgCr 150, Crawfor  51, Edwards 100, Gilbert  79, IDOTRR  37, MeadowV  17, Mitchel  49, NAmes  225, NPkVill  9, NWAmes  73, NoRidge  41, NridgHt  77, OldTown 113, SWISU  25, Sawyer  74, SawyerW  59, Somerst  86, StoneBr  25, Timber  38, Veenker  11\n",
      "\n",
      "# 9 - Condition1: Artery  48, Feedr  81, Norm  1260, PosA   8, PosN  19, RRAe  11, RRAn  26, RRNe   2, RRNn   5\n",
      "\n",
      "# 8 - Condition2: Artery  2, Feedr  6, Norm  1445, PosA   1, PosN   2, RRAe   1, RRAn   1, RRNn   2\n",
      "\n",
      "# 5 - BldgType: 1Fam  1220, 2fmCon  31, Duplex  52, Twnhs  43, TwnhsE  114\n",
      "\n",
      "# 8 - HouseStyle: 1.5Fin 154, 1.5Unf  14, 1Story 726, 2.5Fin  8, 2.5Unf  11, 2Story 445, SFoyer  37, SLvl  65\n",
      "\n",
      "# 6 - RoofStyle: Flat   13, Gable  1141, Gambrel  11, Hip   286, Mansard  7, Shed   2\n",
      "\n",
      "# 8 - RoofMatl: ClyTile  1, CompShg 1434, Membran  1, Metal   1, Roll   1, Tar&Grv  11, WdShake  5, WdShngl  6\n",
      "\n",
      "# 15 - Exterior1st: AsbShng  20, AsphShn  1, BrkComm  2, BrkFace  50, CBlock  1, CemntBd  61, HdBoard 222, ImStucc  1, MetalSd 220, Plywood 108, Stone  2, Stucco  25, VinylSd 515, Wd Sdng 206, WdShing  26\n",
      "\n",
      "# 16 - Exterior2nd: AsbShng  20, AsphShn  3, Brk Cmn  7, BrkFace  25, CBlock  1, CmentBd  60, HdBoard 207, ImStucc  10, MetalSd 214, Other  1, Plywood 142, Stone  5, Stucco  26, VinylSd 504, Wd Sdng 197, Wd Shng  38\n",
      "\n",
      "# 5 - MasVnrType: BrkCmn  15, BrkFace 445, None  864, Stone  128\n",
      "\n",
      "# 4 - ExterQual: Ex  52, Fa  14, Gd 488, TA 906\n",
      "\n",
      "# 5 - ExterCond: Ex  3, Fa  28, Gd  146, Po  1, TA 1282\n",
      "\n",
      "# 6 - Foundation: BrkTil 146, CBlock 634, PConc  647, Slab  24, Stone  6, Wood  3\n",
      "\n",
      "# 5 - BsmtQual: Ex 121, Fa  35, Gd 618, TA 649\n",
      "\n",
      "# 5 - BsmtCond: Fa  45, Gd  65, Po  2, TA 1311\n",
      "\n",
      "# 5 - BsmtExposure: Av 221, Gd 134, Mn 114, No 953\n",
      "\n",
      "# 7 - BsmtFinType1: ALQ 220, BLQ 148, GLQ 418, LwQ  74, Rec 133, Unf 430\n",
      "\n",
      "# 7 - BsmtFinType2: ALQ  19, BLQ  33, GLQ  14, LwQ  46, Rec  54, Unf 1256\n",
      "\n",
      "# 6 - Heating: Floor  1, GasA  1428, GasW  18, Grav  7, OthW  2, Wall  4\n",
      "\n",
      "# 5 - HeatingQC: Ex 741, Fa  49, Gd 241, Po  1, TA 428\n",
      "\n",
      "# 2 - CentralAir: N  95, Y 1365\n",
      "\n",
      "# 6 - Electrical: FuseA  94, FuseF  27, FuseP  3, Mix   1, SBrkr 1334\n",
      "\n",
      "# 4 - KitchenQual: Ex 100, Fa  39, Gd 586, TA 735\n",
      "\n",
      "# 7 - Functional: Maj1  14, Maj2  5, Min1  31, Min2  34, Mod  15, Sev  1, Typ  1360\n",
      "\n",
      "# 6 - FireplaceQu: Ex  24, Fa  33, Gd 380, Po  20, TA 313\n",
      "\n",
      "# 7 - GarageType: 2Types  6, Attchd  870, Basment  19, BuiltIn  88, CarPort  9, Detchd  387\n",
      "\n",
      "# 4 - GarageFinish: Fin 352, RFn 422, Unf 605\n",
      "\n",
      "# 6 - GarageQual: Ex  3, Fa  48, Gd  14, Po  3, TA 1311\n",
      "\n",
      "# 6 - GarageCond: Ex  2, Fa  35, Gd  9, Po  7, TA 1326\n",
      "\n",
      "# 3 - PavedDrive: N  90, P  30, Y 1340\n",
      "\n",
      "# 4 - PoolQC: Ex 2, Fa 2, Gd 3\n",
      "\n",
      "# 5 - Fence: GdPrv  59, GdWo  54, MnPrv 157, MnWw  11\n",
      "\n",
      "# 5 - MiscFeature: Gar2  2, Othr  2, Shed 49, TenC  1\n",
      "\n",
      "# 9 - SaleType: COD  43, CWD   4, Con   2, ConLD  9, ConLI  5, ConLw  5, New  122, Oth   3, WD  1267\n",
      "\n",
      "# 6 - SaleCondition: Abnorml  101, AdjLand  4, Alloca  12, Family  20, Normal  1198, Partial  125\n",
      "\n",
      "Complexity: 43350303281931878400000000000000\n",
      "# 43\n"
     ]
    }
   ],
   "source": [
    "complex = 1\n",
    "index = 0\n",
    "for col in df.columns:\n",
    "    if (str(df[col].dtype) != \"float64\" and str(df[col].dtype) != \"int64\"):\n",
    "        string = str(df.groupby([col]).size()).replace(\"  \", \" \").replace(\"\\n\", \", \").replace(\"  \", \" \").replace(\",\", \":\", 1).split(\", dtype\")[0]\n",
    "        print(\"#\", len(set(df[col].values)), \"-\", string, end=\"\\n\\n\")\n",
    "        complex = complex * len(set(df[col].values))\n",
    "        index = index+1 \n",
    "        \n",
    "print(\"Complexity:\", complex)\n",
    "print(\"#\", index)"
   ]
  },
  {
   "cell_type": "code",
   "execution_count": 212,
   "metadata": {},
   "outputs": [
    {
     "data": {
      "text/plain": [
       "50"
      ]
     },
     "execution_count": 212,
     "metadata": {},
     "output_type": "execute_result"
    }
   ],
   "source": [
    "len(df.columns)"
   ]
  },
  {
   "cell_type": "code",
   "execution_count": null,
   "metadata": {
    "collapsed": true
   },
   "outputs": [],
   "source": []
  },
  {
   "cell_type": "code",
   "execution_count": null,
   "metadata": {
    "collapsed": true
   },
   "outputs": [],
   "source": []
  },
  {
   "cell_type": "code",
   "execution_count": 213,
   "metadata": {},
   "outputs": [],
   "source": [
    "df.to_csv(\"datasets/houseprices_train_edited.csv\", index=False)"
   ]
  },
  {
   "cell_type": "code",
   "execution_count": null,
   "metadata": {
    "collapsed": true
   },
   "outputs": [],
   "source": []
  }
 ],
 "metadata": {
  "kernelspec": {
   "display_name": "Python 3",
   "language": "python",
   "name": "python3"
  },
  "language_info": {
   "codemirror_mode": {
    "name": "ipython",
    "version": 3
   },
   "file_extension": ".py",
   "mimetype": "text/x-python",
   "name": "python",
   "nbconvert_exporter": "python",
   "pygments_lexer": "ipython3",
   "version": "3.6.3"
  }
 },
 "nbformat": 4,
 "nbformat_minor": 2
}
